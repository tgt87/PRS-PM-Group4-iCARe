{
  "nbformat": 4,
  "nbformat_minor": 0,
  "metadata": {
    "colab": {
      "provenance": []
    },
    "kernelspec": {
      "name": "python3",
      "display_name": "Python 3"
    },
    "language_info": {
      "name": "python"
    }
  },
  "cells": [
    {
      "cell_type": "code",
      "execution_count": null,
      "metadata": {
        "id": "JsOa5hJQ7reF"
      },
      "outputs": [],
      "source": [
        "import pandas as pd \n",
        "import numpy as np\n",
        "import matplotlib.pyplot as plt\n",
        "from sklearn.decomposition import PCA\n",
        "from sklearn.preprocessing import StandardScaler\n",
        "import warnings\n",
        "warnings.filterwarnings('ignore')\n",
        "%matplotlib inline"
      ]
    },
    {
      "cell_type": "code",
      "source": [
        "!pip install factor_analyzer\n",
        "from factor_analyzer import FactorAnalyzer\n",
        "from factor_analyzer.factor_analyzer import calculate_bartlett_sphericity\n",
        "from factor_analyzer.factor_analyzer import calculate_kmo"
      ],
      "metadata": {
        "colab": {
          "base_uri": "https://localhost:8080/"
        },
        "id": "ZSFXIyza79KU",
        "outputId": "9ebbb8a2-05e9-476e-f1b6-4758217f6a98"
      },
      "execution_count": null,
      "outputs": [
        {
          "output_type": "stream",
          "name": "stdout",
          "text": [
            "Looking in indexes: https://pypi.org/simple, https://us-python.pkg.dev/colab-wheels/public/simple/\n",
            "Collecting factor_analyzer\n",
            "  Downloading factor_analyzer-0.4.1.tar.gz (41 kB)\n",
            "\u001b[K     |████████████████████████████████| 41 kB 597 kB/s \n",
            "\u001b[?25h  Installing build dependencies ... \u001b[?25l\u001b[?25hdone\n",
            "  Getting requirements to build wheel ... \u001b[?25l\u001b[?25hdone\n",
            "    Preparing wheel metadata ... \u001b[?25l\u001b[?25hdone\n",
            "Requirement already satisfied: scipy in /usr/local/lib/python3.7/dist-packages (from factor_analyzer) (1.7.3)\n",
            "Requirement already satisfied: scikit-learn in /usr/local/lib/python3.7/dist-packages (from factor_analyzer) (1.0.2)\n",
            "Collecting pre-commit\n",
            "  Downloading pre_commit-2.20.0-py2.py3-none-any.whl (199 kB)\n",
            "\u001b[K     |████████████████████████████████| 199 kB 17.8 MB/s \n",
            "\u001b[?25hRequirement already satisfied: numpy in /usr/local/lib/python3.7/dist-packages (from factor_analyzer) (1.21.6)\n",
            "Requirement already satisfied: pandas in /usr/local/lib/python3.7/dist-packages (from factor_analyzer) (1.3.5)\n",
            "Requirement already satisfied: pytz>=2017.3 in /usr/local/lib/python3.7/dist-packages (from pandas->factor_analyzer) (2022.4)\n",
            "Requirement already satisfied: python-dateutil>=2.7.3 in /usr/local/lib/python3.7/dist-packages (from pandas->factor_analyzer) (2.8.2)\n",
            "Requirement already satisfied: six>=1.5 in /usr/local/lib/python3.7/dist-packages (from python-dateutil>=2.7.3->pandas->factor_analyzer) (1.15.0)\n",
            "Collecting virtualenv>=20.0.8\n",
            "  Downloading virtualenv-20.16.5-py3-none-any.whl (8.8 MB)\n",
            "\u001b[K     |████████████████████████████████| 8.8 MB 28.8 MB/s \n",
            "\u001b[?25hRequirement already satisfied: pyyaml>=5.1 in /usr/local/lib/python3.7/dist-packages (from pre-commit->factor_analyzer) (6.0)\n",
            "Collecting nodeenv>=0.11.1\n",
            "  Downloading nodeenv-1.7.0-py2.py3-none-any.whl (21 kB)\n",
            "Collecting identify>=1.0.0\n",
            "  Downloading identify-2.5.6-py2.py3-none-any.whl (98 kB)\n",
            "\u001b[K     |████████████████████████████████| 98 kB 9.2 MB/s \n",
            "\u001b[?25hRequirement already satisfied: importlib-metadata in /usr/local/lib/python3.7/dist-packages (from pre-commit->factor_analyzer) (5.0.0)\n",
            "Requirement already satisfied: toml in /usr/local/lib/python3.7/dist-packages (from pre-commit->factor_analyzer) (0.10.2)\n",
            "Collecting cfgv>=2.0.0\n",
            "  Downloading cfgv-3.3.1-py2.py3-none-any.whl (7.3 kB)\n",
            "Requirement already satisfied: setuptools in /usr/local/lib/python3.7/dist-packages (from nodeenv>=0.11.1->pre-commit->factor_analyzer) (57.4.0)\n",
            "Collecting distlib<1,>=0.3.5\n",
            "  Downloading distlib-0.3.6-py2.py3-none-any.whl (468 kB)\n",
            "\u001b[K     |████████████████████████████████| 468 kB 75.8 MB/s \n",
            "\u001b[?25hRequirement already satisfied: filelock<4,>=3.4.1 in /usr/local/lib/python3.7/dist-packages (from virtualenv>=20.0.8->pre-commit->factor_analyzer) (3.8.0)\n",
            "Collecting platformdirs<3,>=2.4\n",
            "  Downloading platformdirs-2.5.2-py3-none-any.whl (14 kB)\n",
            "Requirement already satisfied: zipp>=0.5 in /usr/local/lib/python3.7/dist-packages (from importlib-metadata->pre-commit->factor_analyzer) (3.9.0)\n",
            "Requirement already satisfied: typing-extensions>=3.6.4 in /usr/local/lib/python3.7/dist-packages (from importlib-metadata->pre-commit->factor_analyzer) (4.1.1)\n",
            "Requirement already satisfied: threadpoolctl>=2.0.0 in /usr/local/lib/python3.7/dist-packages (from scikit-learn->factor_analyzer) (3.1.0)\n",
            "Requirement already satisfied: joblib>=0.11 in /usr/local/lib/python3.7/dist-packages (from scikit-learn->factor_analyzer) (1.2.0)\n",
            "Building wheels for collected packages: factor-analyzer\n",
            "  Building wheel for factor-analyzer (PEP 517) ... \u001b[?25l\u001b[?25hdone\n",
            "  Created wheel for factor-analyzer: filename=factor_analyzer-0.4.1-py2.py3-none-any.whl size=42034 sha256=f23537d29b447a7f4573d71e1858ec14110a6a630c0750e65cebec5a447d2aec\n",
            "  Stored in directory: /root/.cache/pip/wheels/ed/90/48/766e09628cc5bbcf57c2eb063972c1e956a03422dd6d84fde2\n",
            "Successfully built factor-analyzer\n",
            "Installing collected packages: platformdirs, distlib, virtualenv, nodeenv, identify, cfgv, pre-commit, factor-analyzer\n",
            "Successfully installed cfgv-3.3.1 distlib-0.3.6 factor-analyzer-0.4.1 identify-2.5.6 nodeenv-1.7.0 platformdirs-2.5.2 pre-commit-2.20.0 virtualenv-20.16.5\n"
          ]
        }
      ]
    },
    {
      "cell_type": "code",
      "source": [
        "def generate_col_to_drop(category, drop_cat_QP=True):\n",
        "  cat = 'ABCDE'\n",
        "  cat_to_drop = list(cat.replace(category, ''))\n",
        "  col = []\n",
        "  if(drop_cat_QP):\n",
        "    col = ['Quota Premium {}'.format(c) for c in cat]\n",
        "  else:\n",
        "    col = ['Quota Premium {}'.format(c) for c in cat_to_drop]\n",
        "  col_header = ['Quota ', 'Total Bids Received ', 'Number of Successful Bids ']\n",
        "  for i in cat_to_drop:\n",
        "    for j in col_header:\n",
        "      col.append(j + i)\n",
        "  return col"
      ],
      "metadata": {
        "id": "1TphSwA-8CTP"
      },
      "execution_count": null,
      "outputs": []
    },
    {
      "cell_type": "code",
      "source": [
        "data = pd.read_csv('coe_master.csv', index_col = 0)\n",
        "data.shape"
      ],
      "metadata": {
        "colab": {
          "base_uri": "https://localhost:8080/"
        },
        "id": "ZkqXRrM48Hs9",
        "outputId": "55872cfa-94ae-46b9-d91f-e08e1f47fce2"
      },
      "execution_count": null,
      "outputs": [
        {
          "output_type": "execute_result",
          "data": {
            "text/plain": [
              "(468, 86)"
            ]
          },
          "metadata": {},
          "execution_count": 5
        }
      ]
    },
    {
      "cell_type": "code",
      "source": [
        "def perform_pca(data, category, drop_cat_QP=True):\n",
        "  X = data.drop(generate_col_to_drop(category, drop_cat_QP),axis=1)\n",
        "  features = list(X.columns.values)\n",
        "\n",
        "  # Barlett Sphericity & Kaiser-Meyer-Olkin test\n",
        "  BS_passed = False\n",
        "  KMO_passed = False\n",
        "  chi_square_value, p_value = calculate_bartlett_sphericity(X)\n",
        "  if (p_value < 0.05):\n",
        "    BS_passed = True\n",
        "    print(\"BS test passed for category {} with p_value = {}\".format(category, p_value))\n",
        "  else:\n",
        "    print(\"BS test fail for category {} with p_value = {}\".format(category, p_value))\n",
        "\n",
        "  kmo_all,kmo_model=calculate_kmo(X)\n",
        "  if (kmo_model > 0.5):\n",
        "    KMO_passed = True\n",
        "    print(\"KMO test passed for category {} with value = {}\".format(category, kmo_model))\n",
        "  else:\n",
        "    print(\"KMO test fail for category {} with value = {}\".format(category, kmo_model))\n",
        "\n",
        "  if BS_passed and KMO_passed:\n",
        "    # Standardise data & apply PCA\n",
        "    data_std = StandardScaler().fit_transform(X)\n",
        "    n_components = len(features)\n",
        "    pca = PCA(n_components, random_state=42).fit(data_std)\n",
        "\n",
        "    # eigenvalues, variance explained    \n",
        "    eigenvalues = pca.explained_variance_\n",
        "    var_expln = np.round(pca.explained_variance_ratio_ * 100,decimals=3)\n",
        "    npc = 20 # display\n",
        "    print('Cat {} Eigenvalues         :'.format(category),np.round(eigenvalues[0:npc],decimals=3))\n",
        "    print('Cat {} % Variance Explained:'.format(category),var_expln[0:npc])\n",
        "    print('Cat {} % Cumulative Var Explained:'.format(category), np.cumsum(var_expln[0:npc]))\n",
        "\n",
        "    # Scree Plot\n",
        "    x_range = range(1, n_components + 1)\n",
        "    fig = plt.figure(figsize=(18,5))\n",
        "    plt.subplot(1, 2, 1)\n",
        "    plt.plot(x_range,np.cumsum(pca.explained_variance_ratio_), 'o-')\n",
        "    plt.title('Cat {}'.format(category))\n",
        "    plt.xlabel('Principal Component')\n",
        "    plt.ylabel('Cumulative Explained Variance')\n",
        "\n",
        "    plt.subplot(1, 2, 2)\n",
        "    plt.plot(x_range, eigenvalues, 'ro-')\n",
        "    plt.title('Scree Plot Cat {}'.format(category))\n",
        "    plt.xlabel('Principal Component')\n",
        "    plt.ylabel('Eigenvalue')\n",
        "    plt.show()"
      ],
      "metadata": {
        "id": "IMYlhp3T8NAB"
      },
      "execution_count": null,
      "outputs": []
    },
    {
      "cell_type": "code",
      "source": [
        "# Exclude QP A\n",
        "perform_pca(data, 'A')"
      ],
      "metadata": {
        "id": "yOa3gpKj-MEZ",
        "colab": {
          "base_uri": "https://localhost:8080/",
          "height": 558
        },
        "outputId": "5d371a44-2887-470a-b3ed-e557e43dd186"
      },
      "execution_count": null,
      "outputs": [
        {
          "output_type": "stream",
          "name": "stdout",
          "text": [
            "BS test passed for category A with p_value = 0.0\n",
            "KMO test passed for category A with value = 0.756159735266312\n",
            "Cat A Eigenvalues         : [5.4015e+01 5.9070e+00 2.8410e+00 2.4420e+00 1.0150e+00 6.3800e-01\n",
            " 4.9300e-01 4.7000e-01 2.6400e-01 2.4400e-01 1.7700e-01 1.3500e-01\n",
            " 1.0900e-01 8.1000e-02 6.2000e-02 5.0000e-02 4.4000e-02 2.7000e-02\n",
            " 2.6000e-02 2.1000e-02]\n",
            "Cat A % Variance Explained: [7.8116e+01 8.5420e+00 4.1080e+00 3.5320e+00 1.4680e+00 9.2300e-01\n",
            " 7.1300e-01 6.7900e-01 3.8100e-01 3.5300e-01 2.5600e-01 1.9500e-01\n",
            " 1.5800e-01 1.1800e-01 8.9000e-02 7.2000e-02 6.4000e-02 4.0000e-02\n",
            " 3.7000e-02 3.1000e-02]\n",
            "Cat A % Cumulative Var Explained: [78.116 86.658 90.766 94.298 95.766 96.689 97.402 98.081 98.462 98.815\n",
            " 99.071 99.266 99.424 99.542 99.631 99.703 99.767 99.807 99.844 99.875]\n"
          ]
        },
        {
          "output_type": "display_data",
          "data": {
            "text/plain": [
              "<Figure size 1296x360 with 2 Axes>"
            ],
            "image/png": "[encoded data removed]"
          },
          "metadata": {
            "needs_background": "light"
          }
        }
      ]
    },
    {
      "cell_type": "code",
      "source": [
        "# Include QP A\n",
        "perform_pca(data, 'A', False)"
      ],
      "metadata": {
        "id": "_P-Tll9woOfO",
        "colab": {
          "base_uri": "https://localhost:8080/"
        },
        "outputId": "0ac82838-0f76-4794-87b5-322709c2932a"
      },
      "execution_count": null,
      "outputs": [
        {
          "output_type": "stream",
          "name": "stdout",
          "text": [
            "BS test passed for category A with p_value = 0.0\n",
            "KMO test fail for category A with value = nan\n"
          ]
        }
      ]
    },
    {
      "cell_type": "code",
      "source": [],
      "metadata": {
        "id": "IlRQaeTmnMsk"
      },
      "execution_count": null,
      "outputs": []
    }
  ]
}