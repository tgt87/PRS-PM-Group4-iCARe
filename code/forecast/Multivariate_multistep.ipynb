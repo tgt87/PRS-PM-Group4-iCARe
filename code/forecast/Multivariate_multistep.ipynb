{
  "nbformat": 4,
  "nbformat_minor": 0,
  "metadata": {
    "colab": {
      "provenance": [],
      "collapsed_sections": []
    },
    "kernelspec": {
      "name": "python3",
      "display_name": "Python 3"
    },
    "language_info": {
      "name": "python"
    },
    "accelerator": "GPU",
    "gpuClass": "standard"
  },
  "cells": [
    {
      "cell_type": "markdown",
      "source": [
        "Ref: https://machinelearningmastery.com/how-to-develop-lstm-models-for-time-series-forecasting/"
      ],
      "metadata": {
        "id": "F2euPcURO-am"
      }
    },
    {
      "cell_type": "code",
      "source": [
        "from google.colab import drive\n",
        "drive.mount('/content/gdrive')"
      ],
      "metadata": {
        "id": "kcc3DZePPAaa",
        "colab": {
          "base_uri": "https://localhost:8080/"
        },
        "outputId": "50b4eec1-9eeb-4a8a-aaee-688f9bf6973c"
      },
      "execution_count": null,
      "outputs": [
        {
          "output_type": "stream",
          "name": "stdout",
          "text": [
            "Drive already mounted at /content/gdrive; to attempt to forcibly remount, call drive.mount(\"/content/gdrive\", force_remount=True).\n"
          ]
        }
      ]
    },
    {
      "cell_type": "code",
      "source": [
        "import math\n",
        "import pandas as pd\n",
        "import numpy as np\n",
        "import matplotlib.pyplot as plt\n",
        "import tensorflow as tf\n",
        "from sklearn.decomposition import PCA\n",
        "from sklearn.preprocessing import StandardScaler\n",
        "from sklearn.metrics import mean_squared_error, mean_absolute_error\n",
        "\n",
        "from keras.models import Sequential\n",
        "from keras.layers import LSTM, Dense, Dropout, Bidirectional\n",
        "from keras.preprocessing.sequence import TimeseriesGenerator\n",
        "from keras.callbacks import EarlyStopping, ModelCheckpoint, CSVLogger\n",
        "from keras.models import load_model\n",
        "\n",
        "import warnings\n",
        "warnings.filterwarnings('ignore')\n",
        "%matplotlib inline"
      ],
      "metadata": {
        "id": "in6XHJSKPPlc"
      },
      "execution_count": null,
      "outputs": []
    },
    {
      "cell_type": "code",
      "source": [
        "tf.random.set_seed(42)"
      ],
      "metadata": {
        "id": "NuCJvCCsIm5v"
      },
      "execution_count": null,
      "outputs": []
    },
    {
      "cell_type": "code",
      "source": [
        "def generate_col_to_drop(category, drop_cat_target=True):\n",
        "  cat = 'ABCDE'\n",
        "  cat_to_drop = list(cat.replace(category, ''))\n",
        "  col = []\n",
        "  if(drop_cat_target):\n",
        "    col = ['Quota Premium {}'.format(c) for c in cat]\n",
        "  else:\n",
        "    col = ['Quota Premium {}'.format(c) for c in cat_to_drop]\n",
        "  col_header = ['Quota ', 'Total Bids Received ', 'Number of Successful Bids ']\n",
        "  for i in cat_to_drop:\n",
        "    for j in col_header:\n",
        "      col.append(j + i)\n",
        "  return col"
      ],
      "metadata": {
        "id": "nFz06QNSP8oX"
      },
      "execution_count": null,
      "outputs": []
    },
    {
      "cell_type": "code",
      "source": [
        "base_path = '/content/gdrive/My Drive/ISY5002/'\n",
        "df = pd.read_csv(base_path+'data/coe_master.csv', index_col = 0)"
      ],
      "metadata": {
        "id": "OyOdxSLiWR6E"
      },
      "execution_count": null,
      "outputs": []
    },
    {
      "cell_type": "code",
      "source": [
        "n_steps_in, n_steps_out = 48, 48"
      ],
      "metadata": {
        "id": "F_iHCODggYxY"
      },
      "execution_count": null,
      "outputs": []
    },
    {
      "cell_type": "code",
      "source": [
        "def prepare_train_val_test(df, n_steps_in, n_steps_out, category, drop_cat_target=True):\n",
        "  target_col_name = 'Quota Premium {}'.format(category)\n",
        "  df_drop_cat = df.drop(generate_col_to_drop(category, drop_cat_target),axis=1).to_numpy()\n",
        "  rows = df_drop_cat.shape[0]\n",
        "  trainX = df_drop_cat[:rows-n_steps_out*2, :]\n",
        "  trainY = df[target_col_name].to_numpy()[:rows-n_steps_out*2].reshape(-1,1)\n",
        "  valX = df_drop_cat[-(n_steps_out*2+n_steps_in):rows-n_steps_out, :]\n",
        "  valY = df[target_col_name].to_numpy()[-(n_steps_out*2+n_steps_in):rows-n_steps_out].reshape(-1,1)\n",
        "  testX = df_drop_cat[-(n_steps_in + n_steps_out):, :]\n",
        "  testY = df[target_col_name].to_numpy()[-(n_steps_in + n_steps_out):].reshape(-1,1)\n",
        "  actualY = df[target_col_name].to_numpy()[-n_steps_out:].reshape(-1,1)\n",
        "  return trainX, trainY, valX, valY, testX, testY, actualY"
      ],
      "metadata": {
        "id": "ULrx6_KKdFoK"
      },
      "execution_count": null,
      "outputs": []
    },
    {
      "cell_type": "code",
      "source": [
        "trainX, trainY, valX, valY, testX, testY, actualY = prepare_train_val_test(df, n_steps_in, n_steps_out, 'A')"
      ],
      "metadata": {
        "id": "5sBZjJbKUsx0"
      },
      "execution_count": null,
      "outputs": []
    },
    {
      "cell_type": "code",
      "source": [
        "scalerX = StandardScaler().fit(trainX)\n",
        "X_train_std = scalerX.transform(trainX)\n",
        "X_val_std = scalerX.transform(valX)\n",
        "X_test_std = scalerX.transform(testX)\n",
        "\n",
        "scalerY = StandardScaler().fit(trainY)\n",
        "y_train_std = scalerY.transform(trainY)\n",
        "y_val_std = scalerY.transform(valY)\n",
        "y_test_std = scalerY.transform(testY)"
      ],
      "metadata": {
        "id": "uDR4VXNb-DeG"
      },
      "execution_count": null,
      "outputs": []
    },
    {
      "cell_type": "code",
      "source": [
        "npc = 2\n",
        "pca = PCA(n_components=npc, random_state=42)\n",
        "pca.fit(X_train_std)\n",
        "X_train_pca = pca.transform(X_train_std)\n",
        "X_val_pca = pca.transform(X_val_std)\n",
        "X_test_pca = pca.transform(X_test_std)"
      ],
      "metadata": {
        "id": "lR83GHytnG6d"
      },
      "execution_count": null,
      "outputs": []
    },
    {
      "cell_type": "code",
      "source": [
        "train_dataset = np.concatenate((X_train_pca, y_train_std), axis=1)\n",
        "val_dataset = np.concatenate((X_val_pca, y_val_std), axis=1)\n",
        "test_dataset = np.concatenate((X_test_pca, y_test_std), axis=1)"
      ],
      "metadata": {
        "id": "UTW2qLPynzg5"
      },
      "execution_count": null,
      "outputs": []
    },
    {
      "cell_type": "code",
      "source": [
        "def split_sequences(sequences, n_steps_in, n_steps_out):\n",
        "\tX, y = list(), list()\n",
        "\tfor i in range(len(sequences)):\n",
        "\t\t# find the end of this pattern\n",
        "\t\tend_ix = i + n_steps_in\n",
        "\t\tout_end_ix = end_ix + n_steps_out-1\n",
        "\t\t# check if we are beyond the dataset\n",
        "\t\tif out_end_ix + 1 > len(sequences):\n",
        "\t\t\tbreak\n",
        "\t\t# gather input and output parts of the pattern\n",
        "\t\tseq_x, seq_y = sequences[i:end_ix, :-1], sequences[end_ix:out_end_ix+1, -1]\n",
        "\t\tX.append(seq_x)\n",
        "\t\ty.append(seq_y)\n",
        "\treturn np.array(X), np.array(y)"
      ],
      "metadata": {
        "id": "dtRwqAgooJwL"
      },
      "execution_count": null,
      "outputs": []
    },
    {
      "cell_type": "code",
      "source": [
        "X_train, y_train = split_sequences(train_dataset, n_steps_in, n_steps_out)\n",
        "X_val, y_val = split_sequences(val_dataset, n_steps_in, n_steps_out)\n",
        "X_test, y_test = split_sequences(test_dataset, n_steps_in, n_steps_out)\n",
        "print(X_train.shape, y_train.shape)\n",
        "print(X_val.shape, y_val.shape)\n",
        "print(X_test.shape, y_test.shape)\n",
        "\n",
        "n_features = X_train.shape[2]"
      ],
      "metadata": {
        "id": "C99Wv1cMo3IM",
        "colab": {
          "base_uri": "https://localhost:8080/"
        },
        "outputId": "75caf27f-d90f-4dc4-fbd6-a8adf978178e"
      },
      "execution_count": null,
      "outputs": [
        {
          "output_type": "stream",
          "name": "stdout",
          "text": [
            "(277, 48, 2) (277, 48)\n",
            "(1, 48, 2) (1, 48)\n",
            "(1, 48, 2) (1, 48)\n"
          ]
        }
      ]
    },
    {
      "cell_type": "code",
      "source": [
        "def create_lstm_model(n_steps_in, n_features, n_steps_out, model_name, units=[128], dropout=0.2, activation='tanh'):\n",
        "    model = Sequential(name=model_name)\n",
        "    if len(units) > 1:\n",
        "      model.add(LSTM(units[0], activation=activation, return_sequences=True, input_shape=(n_steps_in, n_features)))\n",
        "    else:\n",
        "      model.add(LSTM(units[0], activation=activation, input_shape=(n_steps_in, n_features)))\n",
        "    model.add(Dropout(dropout))\n",
        "    units.pop(0)\n",
        "    for i in range(len(units)):\n",
        "      return_sequence = True\n",
        "      if i == len(units)-1:\n",
        "        return_sequence = False  \n",
        "      model.add(LSTM(units[i], activation=activation, return_sequences=return_sequence))  \n",
        "      model.add(Dropout(dropout))\n",
        "    model.add(Dense(n_steps_out))\n",
        "    model.compile(optimizer='adam', loss='mse', metrics=['mae'])\n",
        "    return model"
      ],
      "metadata": {
        "id": "ZJPHlKPDd_ct"
      },
      "execution_count": null,
      "outputs": []
    },
    {
      "cell_type": "code",
      "source": [
        "def create_bidirectional_lstm_model(n_steps_in, n_features, n_steps_out, model_name, units=[128], merge_mode='concat', dropout=0.2, activation='tanh'):\n",
        "    model = Sequential(name=model_name)\n",
        "    model.add(Bidirectional(LSTM(units[0], activation=activation), input_shape=(n_steps_in, n_features), merge_mode=merge_mode))\n",
        "    model.add(Dropout(dropout))\n",
        "    model.add(Dense(n_steps_out))\n",
        "    model.compile(optimizer='adam', loss='mse', metrics=['mae'])\n",
        "    return model"
      ],
      "metadata": {
        "id": "QNV4yNo66vCr"
      },
      "execution_count": null,
      "outputs": []
    },
    {
      "cell_type": "code",
      "source": [
        "def create_callbacks(model_name):\n",
        "  early_stopping = EarlyStopping(monitor=\"val_loss\", patience = 50, restore_best_weights=True)\n",
        "  model_name   = model_name  \n",
        "  folder_path      = base_path + 'colab/'\n",
        "  file_path        = folder_path + model_name + \".hdf5\"\n",
        "  checkpoint      = ModelCheckpoint(file_path, \n",
        "                                    monitor='val_loss', \n",
        "                                    verbose=0, \n",
        "                                    save_best_only=True, \n",
        "                                    mode='min')\n",
        "  csv_logger      = CSVLogger(folder_path+model_name +'.csv')\n",
        "\n",
        "  return [early_stopping, checkpoint, csv_logger]\n"
      ],
      "metadata": {
        "id": "GhoFoceY7NZr"
      },
      "execution_count": null,
      "outputs": []
    },
    {
      "cell_type": "code",
      "source": [
        "def plot_train_history(history, title):\n",
        "  loss = history.history['loss']\n",
        "  val_loss = history.history['val_loss']\n",
        "\n",
        "  epochs = range(len(loss))\n",
        "\n",
        "  plt.figure()\n",
        "\n",
        "  plt.plot(epochs, loss, 'b', label='Training loss')\n",
        "  plt.plot(epochs, val_loss, 'r', label='Validation loss')\n",
        "  plt.title(title)\n",
        "  plt.legend()\n",
        "\n",
        "  plt.show()"
      ],
      "metadata": {
        "id": "UZcr-DfE7Eqp"
      },
      "execution_count": null,
      "outputs": []
    },
    {
      "cell_type": "code",
      "source": [
        "def print_errors(actual, pred, model_name):\n",
        "    rmse = math.sqrt(mean_squared_error(actual, pred))\n",
        "    mae = mean_absolute_error(actual, pred)\n",
        "    mape = np.mean(np.abs((actual - pred) / actual)) * 100\n",
        "    \n",
        "    print('{} RMSE: '.format(model_name), rmse)\n",
        "    print('{} MAE: '.format(model_name), mae)\n",
        "    print('{} MAPE: '.format(model_name), mape)"
      ],
      "metadata": {
        "id": "WoRoaXFgMm-x"
      },
      "execution_count": null,
      "outputs": []
    },
    {
      "cell_type": "code",
      "source": [
        "def create_model_name(model, units):\n",
        "  model_name = '{}{}_pc{}_lb{}'.format(model, '_'.join(str(u) for u in units), npc, n_steps_in)\n",
        "  if n_features > npc:\n",
        "    model_name += '_lag'\n",
        "  return model_name "
      ],
      "metadata": {
        "id": "ikuZJc_mQZ9P"
      },
      "execution_count": null,
      "outputs": []
    },
    {
      "cell_type": "markdown",
      "source": [
        "## LSTM"
      ],
      "metadata": {
        "id": "cvWAbiTLLtwb"
      }
    },
    {
      "cell_type": "code",
      "source": [
        "lstm_units = [64]\n",
        "lstm_name = create_model_name('lstm', lstm_units)\n",
        "lstm_model = create_lstm_model(n_steps_in, n_features, n_steps_out, lstm_name, units=lstm_units)\n",
        "lstm_model.summary()"
      ],
      "metadata": {
        "colab": {
          "base_uri": "https://localhost:8080/"
        },
        "id": "ycG4Zn9bsgNl",
        "outputId": "a6215d7b-d388-4a03-b888-0eff810b0b4b"
      },
      "execution_count": null,
      "outputs": [
        {
          "output_type": "stream",
          "name": "stdout",
          "text": [
            "Model: \"lstm64_pc2_lb36_lag\"\n",
            "_________________________________________________________________\n",
            " Layer (type)                Output Shape              Param #   \n",
            "=================================================================\n",
            " lstm (LSTM)                 (None, 64)                17408     \n",
            "                                                                 \n",
            " dropout (Dropout)           (None, 64)                0         \n",
            "                                                                 \n",
            " dense (Dense)               (None, 48)                3120      \n",
            "                                                                 \n",
            "=================================================================\n",
            "Total params: 20,528\n",
            "Trainable params: 20,528\n",
            "Non-trainable params: 0\n",
            "_________________________________________________________________\n"
          ]
        }
      ]
    },
    {
      "cell_type": "code",
      "source": [
        "lstm_hist = lstm_model.fit(X_train, y_train, validation_data=(X_val,y_val), epochs=500, callbacks = create_callbacks(lstm_name), batch_size=32, verbose=1, shuffle=False)"
      ],
      "metadata": {
        "colab": {
          "base_uri": "https://localhost:8080/"
        },
        "id": "6DontKPVtCRP",
        "outputId": "4a60788c-e501-4a68-d0ec-7d99f3db446b"
      },
      "execution_count": null,
      "outputs": [
        {
          "output_type": "stream",
          "name": "stdout",
          "text": [
            "Epoch 1/500\n",
            "10/10 [==============================] - 3s 57ms/step - loss: 1.2743 - mae: 0.9825 - val_loss: 0.3872 - val_mae: 0.5234\n",
            "Epoch 2/500\n",
            "10/10 [==============================] - 0s 7ms/step - loss: 0.9048 - mae: 0.8108 - val_loss: 0.4590 - val_mae: 0.6008\n",
            "Epoch 3/500\n",
            "10/10 [==============================] - 0s 7ms/step - loss: 0.6767 - mae: 0.6847 - val_loss: 0.5732 - val_mae: 0.6906\n",
            "Epoch 4/500\n",
            "10/10 [==============================] - 0s 7ms/step - loss: 0.4970 - mae: 0.5707 - val_loss: 0.7169 - val_mae: 0.7771\n",
            "Epoch 5/500\n",
            "10/10 [==============================] - 0s 7ms/step - loss: 0.3848 - mae: 0.4932 - val_loss: 0.8151 - val_mae: 0.8430\n",
            "Epoch 6/500\n",
            "10/10 [==============================] - 0s 7ms/step - loss: 0.3065 - mae: 0.4346 - val_loss: 0.8512 - val_mae: 0.8703\n",
            "Epoch 7/500\n",
            "10/10 [==============================] - 0s 9ms/step - loss: 0.2659 - mae: 0.4026 - val_loss: 0.7711 - val_mae: 0.8273\n",
            "Epoch 8/500\n",
            "10/10 [==============================] - 0s 7ms/step - loss: 0.2389 - mae: 0.3806 - val_loss: 0.6930 - val_mae: 0.7821\n",
            "Epoch 9/500\n",
            "10/10 [==============================] - 0s 7ms/step - loss: 0.2287 - mae: 0.3716 - val_loss: 0.6272 - val_mae: 0.7416\n",
            "Epoch 10/500\n",
            "10/10 [==============================] - 0s 7ms/step - loss: 0.2169 - mae: 0.3600 - val_loss: 0.5785 - val_mae: 0.7098\n",
            "Epoch 11/500\n",
            "10/10 [==============================] - 0s 7ms/step - loss: 0.2069 - mae: 0.3513 - val_loss: 0.5682 - val_mae: 0.7047\n",
            "Epoch 12/500\n",
            "10/10 [==============================] - 0s 7ms/step - loss: 0.1946 - mae: 0.3406 - val_loss: 0.5774 - val_mae: 0.7131\n",
            "Epoch 13/500\n",
            "10/10 [==============================] - 0s 7ms/step - loss: 0.1860 - mae: 0.3343 - val_loss: 0.5592 - val_mae: 0.7015\n",
            "Epoch 14/500\n",
            "10/10 [==============================] - 0s 8ms/step - loss: 0.1843 - mae: 0.3329 - val_loss: 0.5528 - val_mae: 0.6975\n",
            "Epoch 15/500\n",
            "10/10 [==============================] - 0s 7ms/step - loss: 0.1716 - mae: 0.3208 - val_loss: 0.5467 - val_mae: 0.6955\n",
            "Epoch 16/500\n",
            "10/10 [==============================] - 0s 7ms/step - loss: 0.1668 - mae: 0.3176 - val_loss: 0.5349 - val_mae: 0.6891\n",
            "Epoch 17/500\n",
            "10/10 [==============================] - 0s 7ms/step - loss: 0.1754 - mae: 0.3240 - val_loss: 0.5300 - val_mae: 0.6855\n",
            "Epoch 18/500\n",
            "10/10 [==============================] - 0s 7ms/step - loss: 0.1592 - mae: 0.3099 - val_loss: 0.5431 - val_mae: 0.6954\n",
            "Epoch 19/500\n",
            "10/10 [==============================] - 0s 7ms/step - loss: 0.1513 - mae: 0.3031 - val_loss: 0.4970 - val_mae: 0.6616\n",
            "Epoch 20/500\n",
            "10/10 [==============================] - 0s 8ms/step - loss: 0.1456 - mae: 0.2972 - val_loss: 0.4709 - val_mae: 0.6424\n",
            "Epoch 21/500\n",
            "10/10 [==============================] - 0s 8ms/step - loss: 0.1369 - mae: 0.2872 - val_loss: 0.4865 - val_mae: 0.6561\n",
            "Epoch 22/500\n",
            "10/10 [==============================] - 0s 7ms/step - loss: 0.1262 - mae: 0.2776 - val_loss: 0.5016 - val_mae: 0.6677\n",
            "Epoch 23/500\n",
            "10/10 [==============================] - 0s 7ms/step - loss: 0.1179 - mae: 0.2672 - val_loss: 0.5064 - val_mae: 0.6711\n",
            "Epoch 24/500\n",
            "10/10 [==============================] - 0s 7ms/step - loss: 0.1113 - mae: 0.2606 - val_loss: 0.5150 - val_mae: 0.6781\n",
            "Epoch 25/500\n",
            "10/10 [==============================] - 0s 9ms/step - loss: 0.1114 - mae: 0.2596 - val_loss: 0.5137 - val_mae: 0.6774\n",
            "Epoch 26/500\n",
            "10/10 [==============================] - 0s 7ms/step - loss: 0.1104 - mae: 0.2603 - val_loss: 0.5029 - val_mae: 0.6689\n",
            "Epoch 27/500\n",
            "10/10 [==============================] - 0s 7ms/step - loss: 0.1133 - mae: 0.2625 - val_loss: 0.5102 - val_mae: 0.6756\n",
            "Epoch 28/500\n",
            "10/10 [==============================] - 0s 7ms/step - loss: 0.1536 - mae: 0.2950 - val_loss: 0.5578 - val_mae: 0.7080\n",
            "Epoch 29/500\n",
            "10/10 [==============================] - 0s 7ms/step - loss: 0.1341 - mae: 0.2832 - val_loss: 0.5021 - val_mae: 0.6666\n",
            "Epoch 30/500\n",
            "10/10 [==============================] - 0s 7ms/step - loss: 0.1086 - mae: 0.2570 - val_loss: 0.4645 - val_mae: 0.6382\n",
            "Epoch 31/500\n",
            "10/10 [==============================] - 0s 8ms/step - loss: 0.1052 - mae: 0.2538 - val_loss: 0.4575 - val_mae: 0.6335\n",
            "Epoch 32/500\n",
            "10/10 [==============================] - 0s 7ms/step - loss: 0.0972 - mae: 0.2414 - val_loss: 0.4746 - val_mae: 0.6474\n",
            "Epoch 33/500\n",
            "10/10 [==============================] - 0s 9ms/step - loss: 0.0961 - mae: 0.2418 - val_loss: 0.4680 - val_mae: 0.6421\n",
            "Epoch 34/500\n",
            "10/10 [==============================] - 0s 7ms/step - loss: 0.0927 - mae: 0.2361 - val_loss: 0.4534 - val_mae: 0.6305\n",
            "Epoch 35/500\n",
            "10/10 [==============================] - 0s 7ms/step - loss: 0.0922 - mae: 0.2361 - val_loss: 0.4719 - val_mae: 0.6453\n",
            "Epoch 36/500\n",
            "10/10 [==============================] - 0s 7ms/step - loss: 0.0889 - mae: 0.2302 - val_loss: 0.4994 - val_mae: 0.6665\n",
            "Epoch 37/500\n",
            "10/10 [==============================] - 0s 7ms/step - loss: 0.0896 - mae: 0.2315 - val_loss: 0.4988 - val_mae: 0.6653\n",
            "Epoch 38/500\n",
            "10/10 [==============================] - 0s 7ms/step - loss: 0.0873 - mae: 0.2299 - val_loss: 0.4863 - val_mae: 0.6551\n",
            "Epoch 39/500\n",
            "10/10 [==============================] - 0s 7ms/step - loss: 0.0882 - mae: 0.2307 - val_loss: 0.4866 - val_mae: 0.6539\n",
            "Epoch 40/500\n",
            "10/10 [==============================] - 0s 7ms/step - loss: 0.0876 - mae: 0.2296 - val_loss: 0.4936 - val_mae: 0.6588\n",
            "Epoch 41/500\n",
            "10/10 [==============================] - 0s 9ms/step - loss: 0.0858 - mae: 0.2268 - val_loss: 0.5482 - val_mae: 0.6984\n",
            "Epoch 42/500\n",
            "10/10 [==============================] - 0s 9ms/step - loss: 0.0850 - mae: 0.2248 - val_loss: 0.5571 - val_mae: 0.7053\n",
            "Epoch 43/500\n",
            "10/10 [==============================] - 0s 7ms/step - loss: 0.0828 - mae: 0.2234 - val_loss: 0.5500 - val_mae: 0.6999\n",
            "Epoch 44/500\n",
            "10/10 [==============================] - 0s 7ms/step - loss: 0.0872 - mae: 0.2280 - val_loss: 0.5242 - val_mae: 0.6808\n",
            "Epoch 45/500\n",
            "10/10 [==============================] - 0s 7ms/step - loss: 0.0848 - mae: 0.2264 - val_loss: 0.4914 - val_mae: 0.6559\n",
            "Epoch 46/500\n",
            "10/10 [==============================] - 0s 8ms/step - loss: 0.0893 - mae: 0.2297 - val_loss: 0.4918 - val_mae: 0.6564\n",
            "Epoch 47/500\n",
            "10/10 [==============================] - 0s 7ms/step - loss: 0.0860 - mae: 0.2267 - val_loss: 0.5075 - val_mae: 0.6683\n",
            "Epoch 48/500\n",
            "10/10 [==============================] - 0s 7ms/step - loss: 0.0910 - mae: 0.2298 - val_loss: 0.4891 - val_mae: 0.6542\n",
            "Epoch 49/500\n",
            "10/10 [==============================] - 0s 7ms/step - loss: 0.0829 - mae: 0.2231 - val_loss: 0.5323 - val_mae: 0.6856\n",
            "Epoch 50/500\n",
            "10/10 [==============================] - 0s 7ms/step - loss: 0.0794 - mae: 0.2157 - val_loss: 0.5202 - val_mae: 0.6760\n",
            "Epoch 51/500\n",
            "10/10 [==============================] - 0s 7ms/step - loss: 0.0791 - mae: 0.2179 - val_loss: 0.4852 - val_mae: 0.6494\n"
          ]
        }
      ]
    },
    {
      "cell_type": "code",
      "source": [
        "y_pred_lstm_std = lstm_model.predict(X_test)\n",
        "y_pred_lstm = scalerY.inverse_transform(y_pred_lstm_std)\n",
        "y_pred_lstm"
      ],
      "metadata": {
        "colab": {
          "base_uri": "https://localhost:8080/"
        },
        "id": "JbPbKtYCtQ8E",
        "outputId": "3dc94458-2d7a-4fc7-c318-9f365fd3b730"
      },
      "execution_count": null,
      "outputs": [
        {
          "output_type": "stream",
          "name": "stdout",
          "text": [
            "1/1 [==============================] - 0s 374ms/step\n"
          ]
        },
        {
          "output_type": "execute_result",
          "data": {
            "text/plain": [
              "array([[34982.074, 29803.629, 22605.203, 60303.652, 46791.477, 47524.67 ,\n",
              "        45911.676, 39113.11 , 22310.031, 55153.69 , 54786.75 , 52832.992,\n",
              "        49159.402, 25093.621, 36147.027, 50710.902, 25783.072, 28265.75 ,\n",
              "        35408.57 , 41943.715, 45349.67 , 45790.773, 42515.71 , 36707.027,\n",
              "        42111.363, 64629.094, 35927.527, 22053.225, 51296.117, 50019.52 ,\n",
              "        43140.977, 57506.7  , 31847.127, 37501.918, 24155.39 , 41630.906,\n",
              "        39898.477, 34811.953, 52572.773, 27827.842, 42081.074, 43471.34 ,\n",
              "        36893.375, 27159.703, 37821.242, 46900.742, 41893.92 , 37287.75 ]],\n",
              "      dtype=float32)"
            ]
          },
          "metadata": {},
          "execution_count": 21
        }
      ]
    },
    {
      "cell_type": "code",
      "source": [
        "print_errors(actualY,y_pred_lstm[0], lstm_name)"
      ],
      "metadata": {
        "colab": {
          "base_uri": "https://localhost:8080/"
        },
        "id": "-faXyg7oumt8",
        "outputId": "4bb72f02-99a5-4fa0-9290-c9081256f874"
      },
      "execution_count": null,
      "outputs": [
        {
          "output_type": "stream",
          "name": "stdout",
          "text": [
            "lstm64_pc2_lb36_lag RMSE:  13185.655257391736\n",
            "lstm64_pc2_lb36_lag MAE:  10920.593098958334\n",
            "lstm64_pc2_lb36_lag MAPE:  26.03801881608474\n"
          ]
        }
      ]
    },
    {
      "cell_type": "code",
      "source": [
        "plot_train_history(lstm_hist, lstm_name)"
      ],
      "metadata": {
        "id": "IpOLUsMOLF8e",
        "colab": {
          "base_uri": "https://localhost:8080/",
          "height": 281
        },
        "outputId": "f4b6be07-fa3e-4ddc-bce6-6be9914aac44"
      },
      "execution_count": null,
      "outputs": [
        {
          "output_type": "display_data",
          "data": {
            "text/plain": [
              "<Figure size 432x288 with 1 Axes>"
            ],
            "image/png": "[encoded data removed]"
          },
          "metadata": {
            "needs_background": "light"
          }
        }
      ]
    },
    {
      "cell_type": "markdown",
      "source": [
        "## Stack LSTM"
      ],
      "metadata": {
        "id": "S1EI405FLbL6"
      }
    },
    {
      "cell_type": "code",
      "source": [
        "stack_lstm_units = [128,64]\n",
        "stack_lstm_name = create_model_name('stack_lstm', stack_lstm_units)\n",
        "stack_lstm_model = create_lstm_model(n_steps_in, n_features, n_steps_out, stack_lstm_name, units=stack_lstm_units)\n",
        "stack_lstm_model.summary()"
      ],
      "metadata": {
        "id": "e2ZfxWHsxkaY",
        "colab": {
          "base_uri": "https://localhost:8080/"
        },
        "outputId": "7fc2bd27-c1de-4e79-d730-570bd312f1cf"
      },
      "execution_count": null,
      "outputs": [
        {
          "output_type": "stream",
          "name": "stdout",
          "text": [
            "Model: \"stack_lstm128_64_pc2_lb36_lag\"\n",
            "_________________________________________________________________\n",
            " Layer (type)                Output Shape              Param #   \n",
            "=================================================================\n",
            " lstm_1 (LSTM)               (None, 36, 128)           67584     \n",
            "                                                                 \n",
            " dropout_1 (Dropout)         (None, 36, 128)           0         \n",
            "                                                                 \n",
            " lstm_2 (LSTM)               (None, 64)                49408     \n",
            "                                                                 \n",
            " dropout_2 (Dropout)         (None, 64)                0         \n",
            "                                                                 \n",
            " dense_1 (Dense)             (None, 48)                3120      \n",
            "                                                                 \n",
            "=================================================================\n",
            "Total params: 120,112\n",
            "Trainable params: 120,112\n",
            "Non-trainable params: 0\n",
            "_________________________________________________________________\n"
          ]
        }
      ]
    },
    {
      "cell_type": "code",
      "source": [
        "stack_lstm_hist = stack_lstm_model.fit(X_train, y_train, validation_data=(X_val,y_val), epochs=500, callbacks = create_callbacks(stack_lstm_name), batch_size=32, verbose=1, shuffle=False)"
      ],
      "metadata": {
        "colab": {
          "base_uri": "https://localhost:8080/"
        },
        "id": "da2g2xJnLVF-",
        "outputId": "3f818dd6-bdf9-4a7d-c30c-02cec148f68d"
      },
      "execution_count": null,
      "outputs": [
        {
          "output_type": "stream",
          "name": "stdout",
          "text": [
            "Epoch 1/500\n",
            "10/10 [==============================] - 4s 98ms/step - loss: 1.0317 - mae: 0.9052 - val_loss: 0.3191 - val_mae: 0.4814\n",
            "Epoch 2/500\n",
            "10/10 [==============================] - 0s 13ms/step - loss: 0.6444 - mae: 0.6655 - val_loss: 0.6219 - val_mae: 0.7070\n",
            "Epoch 3/500\n",
            "10/10 [==============================] - 0s 11ms/step - loss: 0.4336 - mae: 0.5336 - val_loss: 0.8008 - val_mae: 0.8406\n",
            "Epoch 4/500\n",
            "10/10 [==============================] - 0s 11ms/step - loss: 0.3153 - mae: 0.4481 - val_loss: 0.8127 - val_mae: 0.8454\n",
            "Epoch 5/500\n",
            "10/10 [==============================] - 0s 11ms/step - loss: 0.2580 - mae: 0.3953 - val_loss: 0.5791 - val_mae: 0.6843\n",
            "Epoch 6/500\n",
            "10/10 [==============================] - 0s 13ms/step - loss: 0.2270 - mae: 0.3730 - val_loss: 0.4603 - val_mae: 0.6034\n",
            "Epoch 7/500\n",
            "10/10 [==============================] - 0s 11ms/step - loss: 0.1993 - mae: 0.3474 - val_loss: 0.5621 - val_mae: 0.6958\n",
            "Epoch 8/500\n",
            "10/10 [==============================] - 0s 11ms/step - loss: 0.1792 - mae: 0.3321 - val_loss: 0.6670 - val_mae: 0.7734\n",
            "Epoch 9/500\n",
            "10/10 [==============================] - 0s 11ms/step - loss: 0.1715 - mae: 0.3201 - val_loss: 0.5758 - val_mae: 0.7129\n",
            "Epoch 10/500\n",
            "10/10 [==============================] - 0s 13ms/step - loss: 0.2104 - mae: 0.3524 - val_loss: 0.5110 - val_mae: 0.6593\n",
            "Epoch 11/500\n",
            "10/10 [==============================] - 0s 10ms/step - loss: 0.3364 - mae: 0.4301 - val_loss: 0.3690 - val_mae: 0.5373\n",
            "Epoch 12/500\n",
            "10/10 [==============================] - 0s 11ms/step - loss: 0.1924 - mae: 0.3460 - val_loss: 0.4900 - val_mae: 0.6494\n",
            "Epoch 13/500\n",
            "10/10 [==============================] - 0s 10ms/step - loss: 0.1683 - mae: 0.3213 - val_loss: 0.5379 - val_mae: 0.6859\n",
            "Epoch 14/500\n",
            "10/10 [==============================] - 0s 13ms/step - loss: 0.1474 - mae: 0.2965 - val_loss: 0.5375 - val_mae: 0.6868\n",
            "Epoch 15/500\n",
            "10/10 [==============================] - 0s 11ms/step - loss: 0.1285 - mae: 0.2794 - val_loss: 0.5052 - val_mae: 0.6588\n",
            "Epoch 16/500\n",
            "10/10 [==============================] - 0s 12ms/step - loss: 0.1143 - mae: 0.2627 - val_loss: 0.5467 - val_mae: 0.6907\n",
            "Epoch 17/500\n",
            "10/10 [==============================] - 0s 10ms/step - loss: 0.1079 - mae: 0.2557 - val_loss: 0.5272 - val_mae: 0.6744\n",
            "Epoch 18/500\n",
            "10/10 [==============================] - 0s 10ms/step - loss: 0.1077 - mae: 0.2526 - val_loss: 0.5487 - val_mae: 0.6948\n",
            "Epoch 19/500\n",
            "10/10 [==============================] - 0s 10ms/step - loss: 0.1228 - mae: 0.2712 - val_loss: 0.6104 - val_mae: 0.7362\n",
            "Epoch 20/500\n",
            "10/10 [==============================] - 0s 11ms/step - loss: 0.1484 - mae: 0.3023 - val_loss: 0.6800 - val_mae: 0.7817\n",
            "Epoch 21/500\n",
            "10/10 [==============================] - 0s 10ms/step - loss: 0.1631 - mae: 0.3098 - val_loss: 0.4076 - val_mae: 0.5686\n",
            "Epoch 22/500\n",
            "10/10 [==============================] - 0s 10ms/step - loss: 0.1410 - mae: 0.2879 - val_loss: 0.5222 - val_mae: 0.6734\n",
            "Epoch 23/500\n",
            "10/10 [==============================] - 0s 11ms/step - loss: 0.1055 - mae: 0.2533 - val_loss: 0.4808 - val_mae: 0.6436\n",
            "Epoch 24/500\n",
            "10/10 [==============================] - 0s 11ms/step - loss: 0.1068 - mae: 0.2541 - val_loss: 0.5624 - val_mae: 0.7040\n",
            "Epoch 25/500\n",
            "10/10 [==============================] - 0s 11ms/step - loss: 0.0940 - mae: 0.2378 - val_loss: 0.6375 - val_mae: 0.7558\n",
            "Epoch 26/500\n",
            "10/10 [==============================] - 0s 11ms/step - loss: 0.0900 - mae: 0.2314 - val_loss: 0.6329 - val_mae: 0.7511\n",
            "Epoch 27/500\n",
            "10/10 [==============================] - 0s 10ms/step - loss: 0.0907 - mae: 0.2344 - val_loss: 0.5542 - val_mae: 0.6924\n",
            "Epoch 28/500\n",
            "10/10 [==============================] - 0s 10ms/step - loss: 0.0915 - mae: 0.2339 - val_loss: 0.5505 - val_mae: 0.6927\n",
            "Epoch 29/500\n",
            "10/10 [==============================] - 0s 10ms/step - loss: 0.0953 - mae: 0.2396 - val_loss: 0.6256 - val_mae: 0.7455\n",
            "Epoch 30/500\n",
            "10/10 [==============================] - 0s 10ms/step - loss: 0.0896 - mae: 0.2307 - val_loss: 0.5849 - val_mae: 0.7215\n",
            "Epoch 31/500\n",
            "10/10 [==============================] - 0s 11ms/step - loss: 0.0897 - mae: 0.2321 - val_loss: 0.5799 - val_mae: 0.7143\n",
            "Epoch 32/500\n",
            "10/10 [==============================] - 0s 12ms/step - loss: 0.0854 - mae: 0.2248 - val_loss: 0.5920 - val_mae: 0.7200\n",
            "Epoch 33/500\n",
            "10/10 [==============================] - 0s 10ms/step - loss: 0.0907 - mae: 0.2302 - val_loss: 0.4589 - val_mae: 0.6188\n",
            "Epoch 34/500\n",
            "10/10 [==============================] - 0s 11ms/step - loss: 0.0911 - mae: 0.2344 - val_loss: 0.5054 - val_mae: 0.6565\n",
            "Epoch 35/500\n",
            "10/10 [==============================] - 0s 11ms/step - loss: 0.0982 - mae: 0.2378 - val_loss: 0.5488 - val_mae: 0.6908\n",
            "Epoch 36/500\n",
            "10/10 [==============================] - 0s 10ms/step - loss: 0.0909 - mae: 0.2352 - val_loss: 0.6407 - val_mae: 0.7530\n",
            "Epoch 37/500\n",
            "10/10 [==============================] - 0s 11ms/step - loss: 0.0915 - mae: 0.2343 - val_loss: 0.5312 - val_mae: 0.6718\n",
            "Epoch 38/500\n",
            "10/10 [==============================] - 0s 10ms/step - loss: 0.0846 - mae: 0.2268 - val_loss: 0.5719 - val_mae: 0.7015\n",
            "Epoch 39/500\n",
            "10/10 [==============================] - 0s 11ms/step - loss: 0.0808 - mae: 0.2191 - val_loss: 0.6974 - val_mae: 0.7919\n",
            "Epoch 40/500\n",
            "10/10 [==============================] - 0s 10ms/step - loss: 0.0789 - mae: 0.2148 - val_loss: 0.6488 - val_mae: 0.7543\n",
            "Epoch 41/500\n",
            "10/10 [==============================] - 0s 11ms/step - loss: 0.0784 - mae: 0.2174 - val_loss: 0.6929 - val_mae: 0.7826\n",
            "Epoch 42/500\n",
            "10/10 [==============================] - 0s 11ms/step - loss: 0.0773 - mae: 0.2120 - val_loss: 0.6845 - val_mae: 0.7784\n",
            "Epoch 43/500\n",
            "10/10 [==============================] - 0s 10ms/step - loss: 0.0770 - mae: 0.2121 - val_loss: 0.6067 - val_mae: 0.7281\n",
            "Epoch 44/500\n",
            "10/10 [==============================] - 0s 11ms/step - loss: 0.0827 - mae: 0.2191 - val_loss: 0.5613 - val_mae: 0.6939\n",
            "Epoch 45/500\n",
            "10/10 [==============================] - 0s 12ms/step - loss: 0.0926 - mae: 0.2330 - val_loss: 0.6721 - val_mae: 0.7675\n",
            "Epoch 46/500\n",
            "10/10 [==============================] - 0s 11ms/step - loss: 0.0988 - mae: 0.2410 - val_loss: 0.5842 - val_mae: 0.7062\n",
            "Epoch 47/500\n",
            "10/10 [==============================] - 0s 10ms/step - loss: 0.0886 - mae: 0.2328 - val_loss: 0.6673 - val_mae: 0.7602\n",
            "Epoch 48/500\n",
            "10/10 [==============================] - 0s 10ms/step - loss: 0.0875 - mae: 0.2290 - val_loss: 0.5349 - val_mae: 0.6632\n",
            "Epoch 49/500\n",
            "10/10 [==============================] - 0s 12ms/step - loss: 0.0751 - mae: 0.2138 - val_loss: 0.6138 - val_mae: 0.7335\n",
            "Epoch 50/500\n",
            "10/10 [==============================] - 0s 12ms/step - loss: 0.0764 - mae: 0.2121 - val_loss: 0.5757 - val_mae: 0.7145\n",
            "Epoch 51/500\n",
            "10/10 [==============================] - 0s 12ms/step - loss: 0.0755 - mae: 0.2098 - val_loss: 0.5811 - val_mae: 0.7130\n"
          ]
        }
      ]
    },
    {
      "cell_type": "code",
      "source": [
        "y_pred_stack_lstm_std = stack_lstm_model.predict(X_test)\n",
        "y_pred_stack_lstm = scalerY.inverse_transform(y_pred_stack_lstm_std)\n",
        "y_pred_stack_lstm"
      ],
      "metadata": {
        "colab": {
          "base_uri": "https://localhost:8080/"
        },
        "id": "2h4KF_a_L2YV",
        "outputId": "dc645fdd-0c0a-4ff1-e293-7e8194a85b90"
      },
      "execution_count": null,
      "outputs": [
        {
          "output_type": "stream",
          "name": "stdout",
          "text": [
            "1/1 [==============================] - 1s 820ms/step\n"
          ]
        },
        {
          "output_type": "execute_result",
          "data": {
            "text/plain": [
              "array([[34742.87 , 47887.93 , 51554.12 , 41878.293, 45522.473, 57119.688,\n",
              "        47416.805, 45555.934, 35659.67 , 37726.844, 45457.93 , 37417.47 ,\n",
              "        44734.12 , 42046.508, 46557.164, 39296.617, 47144.047, 48564.85 ,\n",
              "        40180.457, 48402.94 , 45744.8  , 36790.508, 43515.938, 41754.34 ,\n",
              "        56137.695, 49245.44 , 47509.188, 40891.902, 37342.39 , 45610.66 ,\n",
              "        42845.457, 41348.293, 39842.77 , 35648.21 , 31168.742, 38766.223,\n",
              "        45696.2  , 37051.52 , 42233.566, 39798.1  , 37159.07 , 53127.438,\n",
              "        41589.215, 45338.633, 47186.89 , 33709.07 , 40229.785, 27692.244]],\n",
              "      dtype=float32)"
            ]
          },
          "metadata": {},
          "execution_count": 26
        }
      ]
    },
    {
      "cell_type": "code",
      "source": [
        "print_errors(actualY, y_pred_stack_lstm[0], stack_lstm_name)"
      ],
      "metadata": {
        "colab": {
          "base_uri": "https://localhost:8080/"
        },
        "id": "3vMLqkpXNLN_",
        "outputId": "abdd8bac-d2d5-4c10-f524-3e57774c3569"
      },
      "execution_count": null,
      "outputs": [
        {
          "output_type": "stream",
          "name": "stdout",
          "text": [
            "stack_lstm128_64_pc2_lb36_lag RMSE:  11126.54911428278\n",
            "stack_lstm128_64_pc2_lb36_lag MAE:  9045.100870768229\n",
            "stack_lstm128_64_pc2_lb36_lag MAPE:  20.391722934840605\n"
          ]
        }
      ]
    },
    {
      "cell_type": "code",
      "source": [
        "plot_train_history(stack_lstm_hist, stack_lstm_name)"
      ],
      "metadata": {
        "colab": {
          "base_uri": "https://localhost:8080/",
          "height": 281
        },
        "id": "FpJaagRfY97-",
        "outputId": "7ce6281d-6608-40c6-d746-add624ab8a70"
      },
      "execution_count": null,
      "outputs": [
        {
          "output_type": "display_data",
          "data": {
            "text/plain": [
              "<Figure size 432x288 with 1 Axes>"
            ],
            "image/png": "[encoded data removed]"
          },
          "metadata": {
            "needs_background": "light"
          }
        }
      ]
    },
    {
      "cell_type": "markdown",
      "source": [
        "## Bidirectional LSTM"
      ],
      "metadata": {
        "id": "BC95cu0TNSB6"
      }
    },
    {
      "cell_type": "code",
      "source": [
        "bidirectional_units = [64]\n",
        "merge_mode = 'ave'\n",
        "bidirectional_lstm_name = create_model_name('bidirectional_lstm', bidirectional_units)\n",
        "if merge_mode != 'concat':\n",
        "  bidirectional_lstm_name += '_' + merge_mode\n",
        "bidirectional_lstm_model = create_bidirectional_lstm_model(n_steps_in, n_features, n_steps_out, bidirectional_lstm_name, units=bidirectional_units, merge_mode=merge_mode)\n",
        "bidirectional_lstm_model.summary()"
      ],
      "metadata": {
        "colab": {
          "base_uri": "https://localhost:8080/"
        },
        "id": "w938G4gKNRWi",
        "outputId": "34a7be67-fdc1-4e65-ac9b-5efd4059dbc6"
      },
      "execution_count": null,
      "outputs": [
        {
          "output_type": "stream",
          "name": "stdout",
          "text": [
            "Model: \"bidirectional_lstm64_pc2_lb48_ave\"\n",
            "_________________________________________________________________\n",
            " Layer (type)                Output Shape              Param #   \n",
            "=================================================================\n",
            " bidirectional_11 (Bidirecti  (None, 64)               34304     \n",
            " onal)                                                           \n",
            "                                                                 \n",
            " dropout_11 (Dropout)        (None, 64)                0         \n",
            "                                                                 \n",
            " dense_11 (Dense)            (None, 48)                3120      \n",
            "                                                                 \n",
            "=================================================================\n",
            "Total params: 37,424\n",
            "Trainable params: 37,424\n",
            "Non-trainable params: 0\n",
            "_________________________________________________________________\n"
          ]
        }
      ]
    },
    {
      "cell_type": "code",
      "source": [
        "bidirectional_lstm_hist = bidirectional_lstm_model.fit(X_train, y_train, validation_data=(X_val,y_val), epochs=500, callbacks = create_callbacks(bidirectional_lstm_name), batch_size=32, verbose=1, shuffle=False)"
      ],
      "metadata": {
        "colab": {
          "base_uri": "https://localhost:8080/"
        },
        "id": "jiREsPuxNgbf",
        "outputId": "3b0aca7f-3cf0-495d-de94-7a8ca8b4d08a"
      },
      "execution_count": null,
      "outputs": [
        {
          "output_type": "stream",
          "name": "stdout",
          "text": [
            "Epoch 1/500\n",
            "9/9 [==============================] - 4s 106ms/step - loss: 1.1936 - mae: 0.9719 - val_loss: 0.2674 - val_mae: 0.4236\n",
            "Epoch 2/500\n",
            "9/9 [==============================] - 0s 12ms/step - loss: 0.9254 - mae: 0.8370 - val_loss: 0.3208 - val_mae: 0.4715\n",
            "Epoch 3/500\n",
            "9/9 [==============================] - 0s 12ms/step - loss: 0.7076 - mae: 0.7084 - val_loss: 0.3968 - val_mae: 0.5418\n",
            "Epoch 4/500\n",
            "9/9 [==============================] - 0s 12ms/step - loss: 0.5313 - mae: 0.5926 - val_loss: 0.4895 - val_mae: 0.6208\n",
            "Epoch 5/500\n",
            "9/9 [==============================] - 0s 11ms/step - loss: 0.3839 - mae: 0.4894 - val_loss: 0.5852 - val_mae: 0.6953\n",
            "Epoch 6/500\n",
            "9/9 [==============================] - 0s 12ms/step - loss: 0.2782 - mae: 0.4134 - val_loss: 0.6541 - val_mae: 0.7446\n",
            "Epoch 7/500\n",
            "9/9 [==============================] - 0s 11ms/step - loss: 0.2188 - mae: 0.3669 - val_loss: 0.6760 - val_mae: 0.7617\n",
            "Epoch 8/500\n",
            "9/9 [==============================] - 0s 11ms/step - loss: 0.1874 - mae: 0.3385 - val_loss: 0.6585 - val_mae: 0.7525\n",
            "Epoch 9/500\n",
            "9/9 [==============================] - 0s 11ms/step - loss: 0.1665 - mae: 0.3188 - val_loss: 0.6195 - val_mae: 0.7289\n",
            "Epoch 10/500\n",
            "9/9 [==============================] - 0s 11ms/step - loss: 0.1550 - mae: 0.3069 - val_loss: 0.5749 - val_mae: 0.7011\n",
            "Epoch 11/500\n",
            "9/9 [==============================] - 0s 10ms/step - loss: 0.1433 - mae: 0.2956 - val_loss: 0.5422 - val_mae: 0.6815\n",
            "Epoch 12/500\n",
            "9/9 [==============================] - 0s 11ms/step - loss: 0.1317 - mae: 0.2840 - val_loss: 0.5168 - val_mae: 0.6667\n",
            "Epoch 13/500\n",
            "9/9 [==============================] - 0s 11ms/step - loss: 0.1291 - mae: 0.2797 - val_loss: 0.4982 - val_mae: 0.6564\n",
            "Epoch 14/500\n",
            "9/9 [==============================] - 0s 11ms/step - loss: 0.1261 - mae: 0.2768 - val_loss: 0.4864 - val_mae: 0.6511\n",
            "Epoch 15/500\n",
            "9/9 [==============================] - 0s 11ms/step - loss: 0.1188 - mae: 0.2682 - val_loss: 0.4724 - val_mae: 0.6432\n",
            "Epoch 16/500\n",
            "9/9 [==============================] - 0s 11ms/step - loss: 0.1175 - mae: 0.2665 - val_loss: 0.4680 - val_mae: 0.6410\n",
            "Epoch 17/500\n",
            "9/9 [==============================] - 0s 10ms/step - loss: 0.1169 - mae: 0.2651 - val_loss: 0.4640 - val_mae: 0.6404\n",
            "Epoch 18/500\n",
            "9/9 [==============================] - 0s 12ms/step - loss: 0.1163 - mae: 0.2660 - val_loss: 0.4674 - val_mae: 0.6452\n",
            "Epoch 19/500\n",
            "9/9 [==============================] - 0s 11ms/step - loss: 0.1071 - mae: 0.2550 - val_loss: 0.4654 - val_mae: 0.6440\n",
            "Epoch 20/500\n",
            "9/9 [==============================] - 0s 11ms/step - loss: 0.1016 - mae: 0.2485 - val_loss: 0.4544 - val_mae: 0.6361\n",
            "Epoch 21/500\n",
            "9/9 [==============================] - 0s 11ms/step - loss: 0.0993 - mae: 0.2441 - val_loss: 0.4568 - val_mae: 0.6388\n",
            "Epoch 22/500\n",
            "9/9 [==============================] - 0s 12ms/step - loss: 0.0967 - mae: 0.2401 - val_loss: 0.4564 - val_mae: 0.6391\n",
            "Epoch 23/500\n",
            "9/9 [==============================] - 0s 11ms/step - loss: 0.0931 - mae: 0.2360 - val_loss: 0.4551 - val_mae: 0.6385\n",
            "Epoch 24/500\n",
            "9/9 [==============================] - 0s 11ms/step - loss: 0.0930 - mae: 0.2357 - val_loss: 0.4534 - val_mae: 0.6371\n",
            "Epoch 25/500\n",
            "9/9 [==============================] - 0s 14ms/step - loss: 0.0917 - mae: 0.2370 - val_loss: 0.4520 - val_mae: 0.6358\n",
            "Epoch 26/500\n",
            "9/9 [==============================] - 0s 11ms/step - loss: 0.0935 - mae: 0.2371 - val_loss: 0.4483 - val_mae: 0.6337\n",
            "Epoch 27/500\n",
            "9/9 [==============================] - 0s 11ms/step - loss: 0.0905 - mae: 0.2334 - val_loss: 0.4623 - val_mae: 0.6441\n",
            "Epoch 28/500\n",
            "9/9 [==============================] - 0s 11ms/step - loss: 0.0923 - mae: 0.2341 - val_loss: 0.4528 - val_mae: 0.6360\n",
            "Epoch 29/500\n",
            "9/9 [==============================] - 0s 11ms/step - loss: 0.0891 - mae: 0.2307 - val_loss: 0.4522 - val_mae: 0.6346\n",
            "Epoch 30/500\n",
            "9/9 [==============================] - 0s 11ms/step - loss: 0.0877 - mae: 0.2290 - val_loss: 0.4475 - val_mae: 0.6308\n",
            "Epoch 31/500\n",
            "9/9 [==============================] - 0s 13ms/step - loss: 0.0863 - mae: 0.2271 - val_loss: 0.4488 - val_mae: 0.6302\n",
            "Epoch 32/500\n",
            "9/9 [==============================] - 0s 11ms/step - loss: 0.0862 - mae: 0.2257 - val_loss: 0.4511 - val_mae: 0.6313\n",
            "Epoch 33/500\n",
            "9/9 [==============================] - 0s 11ms/step - loss: 0.0839 - mae: 0.2230 - val_loss: 0.4649 - val_mae: 0.6429\n",
            "Epoch 34/500\n",
            "9/9 [==============================] - 0s 12ms/step - loss: 0.0828 - mae: 0.2221 - val_loss: 0.4661 - val_mae: 0.6433\n",
            "Epoch 35/500\n",
            "9/9 [==============================] - 0s 12ms/step - loss: 0.0821 - mae: 0.2215 - val_loss: 0.4578 - val_mae: 0.6361\n",
            "Epoch 36/500\n",
            "9/9 [==============================] - 0s 11ms/step - loss: 0.0828 - mae: 0.2217 - val_loss: 0.4631 - val_mae: 0.6398\n",
            "Epoch 37/500\n",
            "9/9 [==============================] - 0s 11ms/step - loss: 0.0795 - mae: 0.2182 - val_loss: 0.4575 - val_mae: 0.6351\n",
            "Epoch 38/500\n",
            "9/9 [==============================] - 0s 11ms/step - loss: 0.0802 - mae: 0.2166 - val_loss: 0.4547 - val_mae: 0.6327\n",
            "Epoch 39/500\n",
            "9/9 [==============================] - 0s 13ms/step - loss: 0.0778 - mae: 0.2141 - val_loss: 0.4611 - val_mae: 0.6378\n",
            "Epoch 40/500\n",
            "9/9 [==============================] - 0s 11ms/step - loss: 0.0757 - mae: 0.2125 - val_loss: 0.4489 - val_mae: 0.6275\n",
            "Epoch 41/500\n",
            "9/9 [==============================] - 0s 11ms/step - loss: 0.0805 - mae: 0.2189 - val_loss: 0.4587 - val_mae: 0.6348\n",
            "Epoch 42/500\n",
            "9/9 [==============================] - 0s 13ms/step - loss: 0.0837 - mae: 0.2242 - val_loss: 0.4525 - val_mae: 0.6298\n",
            "Epoch 43/500\n",
            "9/9 [==============================] - 0s 11ms/step - loss: 0.0800 - mae: 0.2197 - val_loss: 0.4535 - val_mae: 0.6306\n",
            "Epoch 44/500\n",
            "9/9 [==============================] - 0s 12ms/step - loss: 0.0831 - mae: 0.2217 - val_loss: 0.4564 - val_mae: 0.6328\n",
            "Epoch 45/500\n",
            "9/9 [==============================] - 0s 11ms/step - loss: 0.0823 - mae: 0.2230 - val_loss: 0.4535 - val_mae: 0.6293\n",
            "Epoch 46/500\n",
            "9/9 [==============================] - 0s 11ms/step - loss: 0.0789 - mae: 0.2159 - val_loss: 0.4570 - val_mae: 0.6320\n",
            "Epoch 47/500\n",
            "9/9 [==============================] - 0s 12ms/step - loss: 0.0727 - mae: 0.2071 - val_loss: 0.4565 - val_mae: 0.6321\n",
            "Epoch 48/500\n",
            "9/9 [==============================] - 0s 11ms/step - loss: 0.0713 - mae: 0.2046 - val_loss: 0.4583 - val_mae: 0.6329\n",
            "Epoch 49/500\n",
            "9/9 [==============================] - 0s 11ms/step - loss: 0.0739 - mae: 0.2093 - val_loss: 0.4580 - val_mae: 0.6323\n",
            "Epoch 50/500\n",
            "9/9 [==============================] - 0s 13ms/step - loss: 0.0736 - mae: 0.2089 - val_loss: 0.4677 - val_mae: 0.6401\n",
            "Epoch 51/500\n",
            "9/9 [==============================] - 0s 11ms/step - loss: 0.0745 - mae: 0.2094 - val_loss: 0.4637 - val_mae: 0.6366\n"
          ]
        }
      ]
    },
    {
      "cell_type": "code",
      "source": [
        "y_pred_bidirectional_lstm_std = bidirectional_lstm_model.predict(X_test)\n",
        "y_pred_bidirectional_lstm = scalerY.inverse_transform(y_pred_bidirectional_lstm_std)\n",
        "y_pred_bidirectional_lstm"
      ],
      "metadata": {
        "colab": {
          "base_uri": "https://localhost:8080/"
        },
        "id": "LCcBM3M3NsZi",
        "outputId": "fcc46402-0b09-47f8-e0fe-1a4852a5684b"
      },
      "execution_count": null,
      "outputs": [
        {
          "output_type": "stream",
          "name": "stdout",
          "text": [
            "1/1 [==============================] - 1s 634ms/step\n"
          ]
        },
        {
          "output_type": "execute_result",
          "data": {
            "text/plain": [
              "array([[41449.65 , 37032.848, 28257.059, 39553.562, 28395.566, 38031.902,\n",
              "        36243.18 , 43119.39 , 42402.12 , 48207.246, 41904.45 , 35974.035,\n",
              "        34060.516, 36175.918, 38911.652, 41860.152, 41911.812, 34869.76 ,\n",
              "        39367.223, 43790.305, 39707.77 , 43165.375, 46136.562, 42340.95 ,\n",
              "        49498.754, 50557.344, 29217.908, 36951.633, 43410.62 , 40151.754,\n",
              "        32330.418, 37139.49 , 31355.56 , 44822.84 , 41945.645, 42996.785,\n",
              "        42705.03 , 33400.145, 45789.254, 37478.016, 45638.492, 42589.63 ,\n",
              "        42121.86 , 50772.453, 39768.7  , 43026.36 , 26497.54 , 41826.074]],\n",
              "      dtype=float32)"
            ]
          },
          "metadata": {},
          "execution_count": 111
        }
      ]
    },
    {
      "cell_type": "code",
      "source": [
        "print_errors(actualY, y_pred_bidirectional_lstm[0], bidirectional_lstm_name)"
      ],
      "metadata": {
        "colab": {
          "base_uri": "https://localhost:8080/"
        },
        "id": "A1a2DTOtN0Uz",
        "outputId": "5c2d462b-5eea-4e61-c754-681731a07ea9"
      },
      "execution_count": null,
      "outputs": [
        {
          "output_type": "stream",
          "name": "stdout",
          "text": [
            "bidirectional_lstm64_pc2_lb48_ave RMSE:  9062.122800385569\n",
            "bidirectional_lstm64_pc2_lb48_ave MAE:  7134.011555989583\n",
            "bidirectional_lstm64_pc2_lb48_ave MAPE:  18.899281673368712\n"
          ]
        }
      ]
    },
    {
      "cell_type": "code",
      "source": [
        "plot_train_history(bidirectional_lstm_hist, bidirectional_lstm_name)"
      ],
      "metadata": {
        "colab": {
          "base_uri": "https://localhost:8080/",
          "height": 281
        },
        "id": "6NCwp2ltYvOM",
        "outputId": "ad867f15-6458-4aec-d5c6-598f0deec2c8"
      },
      "execution_count": null,
      "outputs": [
        {
          "output_type": "display_data",
          "data": {
            "text/plain": [
              "<Figure size 432x288 with 1 Axes>"
            ],
            "image/png": "[encoded data removed]"
          },
          "metadata": {
            "needs_background": "light"
          }
        }
      ]
    },
    {
      "cell_type": "code",
      "source": [
        "plt.figsize=(20,10)\n",
        "plt.plot(actualY, label='actual')\n",
        "# plt.plot(y_pred_lstm[0], label=lstm_name)\n",
        "# plt.plot(y_pred_stack_lstm[0], label=stack_lstm_name)\n",
        "plt.plot(y_pred_bidirectional_lstm[0], label=bidirectional_lstm_name)\n",
        "plt.legend(bbox_to_anchor=(1.65, 1), loc=\"upper right\")\n",
        "plt.show()"
      ],
      "metadata": {
        "colab": {
          "base_uri": "https://localhost:8080/",
          "height": 266
        },
        "id": "EaRNaXluQiD7",
        "outputId": "c115a4c6-3679-4396-c073-454bb8ad94d9"
      },
      "execution_count": null,
      "outputs": [
        {
          "output_type": "display_data",
          "data": {
            "text/plain": [
              "<Figure size 432x288 with 1 Axes>"
            ],
            "image/png": "[encoded data removed]"
          },
          "metadata": {
            "needs_background": "light"
          }
        }
      ]
    },
    {
      "cell_type": "code",
      "source": [],
      "metadata": {
        "id": "dYKAG4Wu-tD4"
      },
      "execution_count": null,
      "outputs": []
    },
    {
      "cell_type": "markdown",
      "source": [
        "## Best Model Summary\n",
        "\n",
        "*Need to run cells 1,2,3,4,5,7,12 before running this section"
      ],
      "metadata": {
        "id": "Rn9l7Lm47ovw"
      }
    },
    {
      "cell_type": "code",
      "source": [
        "best_lstm_model = 'lstm256_pc1_lb48_lag'\n",
        "best_stack_lstm_model = 'stack_lstm128_64_32_pc2_lb48'\n",
        "best_bidirectional_model = 'bidirectional_lstm128_pc2_lb36_lag_ave'"
      ],
      "metadata": {
        "id": "QKJZFm6-jHtn"
      },
      "execution_count": null,
      "outputs": []
    },
    {
      "cell_type": "code",
      "source": [
        "def best_model_load_predict(n_steps_in, n_steps_out, npc, model_name, include_lag_feature=False):\n",
        "  trainX, trainY, valX, valY, testX, testY, actualY = prepare_train_val_test(df, n_steps_in, n_steps_out, 'A')\n",
        "\n",
        "  scalerX = StandardScaler().fit(trainX)\n",
        "  X_train_std = scalerX.transform(trainX)\n",
        "  X_val_std = scalerX.transform(valX)\n",
        "  X_test_std = scalerX.transform(testX)\n",
        "\n",
        "  scalerY = StandardScaler().fit(trainY)\n",
        "  y_train_std = scalerY.transform(trainY)\n",
        "  y_val_std = scalerY.transform(valY)\n",
        "  y_test_std = scalerY.transform(testY)\n",
        "\n",
        "  pca = PCA(n_components=npc, random_state=42)\n",
        "  pca.fit(X_train_std)\n",
        "  X_train_pca = pca.transform(X_train_std)\n",
        "  X_val_pca = pca.transform(X_val_std)\n",
        "  X_test_pca = pca.transform(X_test_std)\n",
        "\n",
        "  if include_lag_feature:\n",
        "    train_dataset = np.concatenate((X_train_pca, y_train_std, y_train_std), axis=1)\n",
        "    val_dataset = np.concatenate((X_val_pca, y_val_std, y_val_std), axis=1)\n",
        "    test_dataset = np.concatenate((X_test_pca, y_test_std, y_test_std), axis=1)\n",
        "  else:\n",
        "    train_dataset = np.concatenate((X_train_pca, y_train_std), axis=1)\n",
        "    val_dataset = np.concatenate((X_val_pca, y_val_std), axis=1)\n",
        "    test_dataset = np.concatenate((X_test_pca, y_test_std), axis=1)\n",
        "\n",
        "  X_train, y_train = split_sequences(train_dataset, n_steps_in, n_steps_out)\n",
        "  X_val, y_val = split_sequences(val_dataset, n_steps_in, n_steps_out)\n",
        "  X_test, y_test = split_sequences(test_dataset, n_steps_in, n_steps_out)\n",
        "\n",
        "  print(\"X train shape: {}, y train shape: {}\".format(X_train.shape, y_train.shape))\n",
        "  print(\"X validation shape: {}, y validation shape: {}\".format(X_val.shape, y_val.shape))\n",
        "  print(\"X test shape: {}, y test shape: {}\".format(X_test.shape, y_test.shape))\n",
        "\n",
        "  model_path = base_path + '/colab/' + model_name + '.hdf5'\n",
        "  model = load_model(model_path)\n",
        "\n",
        "  y_pred_std = model.predict(X_test)\n",
        "  y_pred = scalerY.inverse_transform(y_pred_std)\n",
        "\n",
        "  return y_pred[0]\n"
      ],
      "metadata": {
        "id": "tnY58PXVbi7V"
      },
      "execution_count": null,
      "outputs": []
    },
    {
      "cell_type": "code",
      "source": [
        "y_pred_best_lstm = best_model_load_predict(48, 48, 1, best_lstm_model, True)"
      ],
      "metadata": {
        "colab": {
          "base_uri": "https://localhost:8080/"
        },
        "id": "FRYUs_-_y5cm",
        "outputId": "83049e12-2a3e-4062-d13a-60658240bbc1"
      },
      "execution_count": null,
      "outputs": [
        {
          "output_type": "stream",
          "name": "stdout",
          "text": [
            "X train shape: (277, 48, 2), y train shape: (277, 48)\n",
            "X validation shape: (1, 48, 2), y validation shape: (1, 48)\n",
            "X test shape: (1, 48, 2), y test shape: (1, 48)\n",
            "1/1 [==============================] - 0s 341ms/step\n"
          ]
        }
      ]
    },
    {
      "cell_type": "code",
      "source": [
        "y_pred_best_stack_lstm = best_model_load_predict(48, 48, 2, best_stack_lstm_model, False)"
      ],
      "metadata": {
        "colab": {
          "base_uri": "https://localhost:8080/"
        },
        "id": "ot849YPz0-Ht",
        "outputId": "d74a99fc-832a-4c9f-9846-ee6339ed60c4"
      },
      "execution_count": null,
      "outputs": [
        {
          "output_type": "stream",
          "name": "stdout",
          "text": [
            "X train shape: (277, 48, 2), y train shape: (277, 48)\n",
            "X validation shape: (1, 48, 2), y validation shape: (1, 48)\n",
            "X test shape: (1, 48, 2), y test shape: (1, 48)\n",
            "1/1 [==============================] - 1s 947ms/step\n"
          ]
        }
      ]
    },
    {
      "cell_type": "code",
      "source": [
        "y_pred_best_bidirectional_lstm = best_model_load_predict(36, 48, 2, best_bidirectional_model, True)"
      ],
      "metadata": {
        "colab": {
          "base_uri": "https://localhost:8080/"
        },
        "id": "BhQwUSiY3v7S",
        "outputId": "863f1aa3-5e9a-419f-e1c2-eddf108e6129"
      },
      "execution_count": null,
      "outputs": [
        {
          "output_type": "stream",
          "name": "stdout",
          "text": [
            "X train shape: (289, 36, 3), y train shape: (289, 48)\n",
            "X validation shape: (1, 36, 3), y validation shape: (1, 48)\n",
            "X test shape: (1, 36, 3), y test shape: (1, 48)\n",
            "1/1 [==============================] - 1s 1s/step\n"
          ]
        }
      ]
    },
    {
      "cell_type": "code",
      "source": [
        "def generate_x_labels(date_list):\n",
        "  month_dict = {1:\"Jan\", 2:\"Feb\", 3:\"Mar\", 4:\"Apr\", 5:\"May\", 6:\"Jun\", 7:\"Jul\", 8:\"Aug\", 9:\"Sep\", 10:\"Oct\", 11:\"Nov\", 12:\"Dec\"}\n",
        "  x_labels = []\n",
        "\n",
        "  for d in date_list:\n",
        "    yr, mth, day = d.split('-')\n",
        "    if int(day) <= 14:\n",
        "      bidding_exercise = '1'\n",
        "    else:\n",
        "      bidding_exercise = '2'\n",
        "    x_labels.append(\"{} {} ({})\".format(month_dict[int(mth)], yr, bidding_exercise))\n",
        "  return x_labels"
      ],
      "metadata": {
        "id": "1iQVFJN0yANk"
      },
      "execution_count": null,
      "outputs": []
    },
    {
      "cell_type": "code",
      "source": [
        "x_labels = generate_x_labels(df.index.values)"
      ],
      "metadata": {
        "id": "TIlTHWdAIjj_"
      },
      "execution_count": null,
      "outputs": []
    },
    {
      "cell_type": "code",
      "source": [
        "df_plot = pd.DataFrame(list(zip(x_labels[-48:], df['Quota Premium A'].values[-48:], y_pred_best_lstm, y_pred_best_stack_lstm, y_pred_best_bidirectional_lstm)),\n",
        "               columns =['bidding exercise', 'actual', 'lstm', 'stack_lstm','bilstm'])\n",
        "df_plot.set_index('bidding exercise', inplace=True)"
      ],
      "metadata": {
        "id": "hGFxw8vZzEq2"
      },
      "execution_count": null,
      "outputs": []
    },
    {
      "cell_type": "code",
      "source": [
        "plt.gcf().set_size_inches(20,10)\n",
        "# x_labels = pd.to_datetime(df.index)\n",
        "df_plot['actual'].plot(label='COE - Quota Premium A')\n",
        "# df_plot['lstm'].plot(label=best_lstm_model)\n",
        "# df_plot['stack_lstm'].plot(label=best_stack_lstm_model)\n",
        "df_plot['bilstm'].plot(label=best_bidirectional_model)\n",
        "plt.legend()\n",
        "plt.show()"
      ],
      "metadata": {
        "colab": {
          "base_uri": "https://localhost:8080/",
          "height": 606
        },
        "id": "ikHAia11goIn",
        "outputId": "40240aa0-8f06-48ac-efcb-d91943ca60a6"
      },
      "execution_count": null,
      "outputs": [
        {
          "output_type": "display_data",
          "data": {
            "text/plain": [
              "<Figure size 1440x720 with 1 Axes>"
            ],
            "image/png": "[encoded data removed]"
          },
          "metadata": {
            "needs_background": "light"
          }
        }
      ]
    },
    {
      "cell_type": "code",
      "source": [],
      "metadata": {
        "id": "DtGXVKyQEcZc"
      },
      "execution_count": null,
      "outputs": []
    }
  ]
}